{
 "cells": [
  {
   "cell_type": "code",
   "execution_count": 1,
   "metadata": {},
   "outputs": [],
   "source": [
    "import torch\n",
    "import torch.nn as nn\n",
    "from torch.utils.data import DataLoader, Subset\n",
    "from typing import List, Dict\n",
    "from models.loader import load_model\n",
    "from client import Client\n",
    "from cluster import ClusterDaddy\n",
    "from datasets.dataloader import load_global_dataset, create_clustered_dataset\n",
    "from aggregation.strategies import load_aggregator\n",
    "import random\n",
    "from copy import deepcopy"
   ]
  },
  {
   "cell_type": "code",
   "execution_count": 2,
   "metadata": {},
   "outputs": [
    {
     "name": "stdout",
     "output_type": "stream",
     "text": [
      "Files already downloaded and verified\n",
      "Files already downloaded and verified\n"
     ]
    }
   ],
   "source": [
    "train_set, test_set = load_global_dataset('cifar10')\n",
    "val_size = 5000\n",
    "# split the training set into training and validation\n",
    "train_dataset = Subset(train_set, range(len(train_set) - val_size))\n",
    "val_dataset = Subset(train_set, range(len(train_set) - val_size, len(train_set)))\n",
    "\n",
    "train_loader = DataLoader(train_dataset, batch_size=64, shuffle=True)\n",
    "val_loader = DataLoader(val_dataset, batch_size=64, shuffle=False)\n",
    "test_loader = DataLoader(test_set, batch_size=64, shuffle=False)"
   ]
  },
  {
   "cell_type": "code",
   "execution_count": 40,
   "metadata": {},
   "outputs": [],
   "source": [
    "model = load_model('cifarcnn')\n",
    "model = model.cuda()\n"
   ]
  },
  {
   "cell_type": "code",
   "execution_count": 38,
   "metadata": {},
   "outputs": [],
   "source": [
    "\n",
    "def permute_linear_layer_nodes(seq, layer_indices):\n",
    "    \n",
    "    permuted_seq = deepcopy(seq)\n",
    "    layer1 = permuted_seq[layer_indices[0]]\n",
    "    layer2 = permuted_seq[layer_indices[1]]\n",
    "\n",
    "    # reorder the hidden neurons from layer1 to layer2\n",
    "    layer1_weight = layer1.weight\n",
    "    layer1_bias = layer1.bias\n",
    "    layer2_weight = layer2.weight\n",
    "    layer2_bias = layer2.bias\n",
    "\n",
    "    perm =  torch.randperm(layer1_weight.size(0))\n",
    "    layer1_weight = layer1_weight[perm]\n",
    "    layer2_weight = layer2_weight[:,perm]\n",
    "\n",
    "    permuted_seq[layer_indices[0]].weight.data = layer1_weight\n",
    "    permuted_seq[layer_indices[0]].bias.data = layer1_bias\n",
    "    permuted_seq[layer_indices[1]].weight.data = layer2_weight\n",
    "    permuted_seq[layer_indices[1]].bias.data = layer2_bias\n",
    "\n",
    "    return permuted_seq\n",
    "\n"
   ]
  },
  {
   "cell_type": "code",
   "execution_count": 41,
   "metadata": {},
   "outputs": [
    {
     "name": "stdout",
     "output_type": "stream",
     "text": [
      "Client 0 initialized on device:  cuda:0\n",
      "Client 0 epoch 0 loss: 2.3500362668525088\n",
      "Client 0 epoch 1 loss: 2.3500593216581778\n",
      "Client 0 epoch 2 loss: 2.349995043806054\n",
      "Client 0 epoch 3 loss: 2.3498754680834035\n",
      "Client 0 epoch 4 loss: 2.349979944865812\n",
      "Original model accuracy: 2.3482912763764587, loss: 0.101\n",
      "Permuted model accuracy: 2.3482912763764587, loss: 0.101\n"
     ]
    }
   ],
   "source": [
    "client = Client(id=0, device=torch.device('cuda:0'), cluster_assignment=0)\n",
    "# train the model on the client\n",
    "criterion = nn.CrossEntropyLoss()\n",
    "optimizer = torch.optim.SGD(model.parameters(), lr=0.01, momentum=0.9)\n",
    "model = client.train(deepcopy(model), train_loader, criterion, optimizer, num_epochs=5)\n",
    "acc, loss = client.evaluate(model, val_loader, criterion)\n",
    "\n",
    "\n",
    "# Example: Permuting only the Linear layer at index 4 (the last layer in the model)\n",
    "layer_indicies = [7,9]\n",
    "\n",
    "# Permute the parameters in the model\n",
    "permuted_seq = permute_linear_layer_nodes(model.nn, layer_indicies)\n",
    "permuted_model = deepcopy(model)\n",
    "permuted_model.nn = permuted_seq\n",
    "\n",
    "perm_acc, perm_loss = client.evaluate(permuted_model, val_loader, criterion)\n",
    "print(f'Original model accuracy: {acc}, loss: {loss}')\n",
    "print(f'Permuted model accuracy: {perm_acc}, loss: {perm_loss}')\n",
    "\n",
    "assert acc == perm_acc and loss == perm_loss, \"Permutation failed\"\n"
   ]
  },
  {
   "cell_type": "code",
   "execution_count": 44,
   "metadata": {},
   "outputs": [
    {
     "data": {
      "text/plain": [
       "tensor(5115.5806, device='cuda:0', grad_fn=<AddBackward0>)"
      ]
     },
     "execution_count": 44,
     "metadata": {},
     "output_type": "execute_result"
    }
   ],
   "source": [
    "orig_layer = model.nn[7]\n",
    "permuted_layer = permuted_model.nn[7]\n",
    "\n",
    "# pointwise comparison of the weights\n",
    "dist = 0\n",
    "for i in range(orig_layer.weight.shape[0]):\n",
    "    dist += torch.abs(orig_layer.weight[i] - permuted_layer.weight[i]).sum()\n",
    "dist"
   ]
  },
  {
   "cell_type": "code",
   "execution_count": 34,
   "metadata": {},
   "outputs": [
    {
     "data": {
      "text/plain": [
       "(tensor([[ 0.0388, -0.0616, -0.0528,  ..., -0.0023,  0.0210,  0.0355],\n",
       "         [ 0.0003, -0.0494,  0.0330,  ...,  0.0345,  0.0391, -0.0115],\n",
       "         [ 0.0455, -0.0112, -0.0368,  ..., -0.0242,  0.0681, -0.0338],\n",
       "         ...,\n",
       "         [ 0.0117,  0.0555, -0.0672,  ...,  0.0337,  0.0095,  0.0407],\n",
       "         [-0.0585,  0.0345,  0.0570,  ...,  0.0032,  0.0090, -0.0789],\n",
       "         [ 0.0774,  0.0579,  0.0732,  ..., -0.0116,  0.0414, -0.0384]],\n",
       "        device='cuda:0'),\n",
       " tensor([[ 0.0388, -0.0616, -0.0528,  ..., -0.0023,  0.0210,  0.0355],\n",
       "         [ 0.0003, -0.0494,  0.0330,  ...,  0.0345,  0.0391, -0.0115],\n",
       "         [ 0.0455, -0.0112, -0.0368,  ..., -0.0242,  0.0681, -0.0338],\n",
       "         ...,\n",
       "         [ 0.0117,  0.0555, -0.0672,  ...,  0.0337,  0.0095,  0.0407],\n",
       "         [-0.0585,  0.0345,  0.0570,  ...,  0.0032,  0.0090, -0.0789],\n",
       "         [ 0.0774,  0.0579,  0.0732,  ..., -0.0116,  0.0414, -0.0384]],\n",
       "        device='cuda:0'))"
      ]
     },
     "execution_count": 34,
     "metadata": {},
     "output_type": "execute_result"
    }
   ],
   "source": [
    "orig_layer.weight.data, permuted_layer.weight.data"
   ]
  },
  {
   "cell_type": "code",
   "execution_count": null,
   "metadata": {},
   "outputs": [],
   "source": []
  }
 ],
 "metadata": {
  "kernelspec": {
   "display_name": "Python 3 (ipykernel)",
   "language": "python",
   "name": "python3"
  },
  "language_info": {
   "codemirror_mode": {
    "name": "ipython",
    "version": 3
   },
   "file_extension": ".py",
   "mimetype": "text/x-python",
   "name": "python",
   "nbconvert_exporter": "python",
   "pygments_lexer": "ipython3",
   "version": "3.10.12"
  }
 },
 "nbformat": 4,
 "nbformat_minor": 2
}
